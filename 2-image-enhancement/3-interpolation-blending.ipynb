{
 "cells": [
  {
   "cell_type": "markdown",
   "metadata": {},
   "source": [
    "## **Introduction to Image Processing**"
   ]
  },
  {
   "cell_type": "markdown",
   "metadata": {},
   "source": [
    "## Interpolation and Blending"
   ]
  },
  {
   "cell_type": "markdown",
   "metadata": {},
   "source": [
    " Importing necessary libraries/modules and functions"
   ]
  },
  {
   "cell_type": "code",
   "execution_count": 1,
   "metadata": {
    "collapsed": false
   },
   "outputs": [
    {
     "name": "stderr",
     "output_type": "stream",
     "text": [
      "/home/lemaitre/anaconda/lib/python2.7/site-packages/matplotlib/font_manager.py:273: UserWarning: Matplotlib is building the font cache using fc-list. This may take a moment.\n",
      "  warnings.warn('Matplotlib is building the font cache using fc-list. This may take a moment.')\n"
     ]
    },
    {
     "name": "stdout",
     "output_type": "stream",
     "text": [
      "Pretty printing has been turned OFF\n"
     ]
    }
   ],
   "source": [
    "% matplotlib inline\n",
    "% pprint off \n",
    "\n",
    "\n",
    "# Import the library as show images, plot, etc.\n",
    "import matplotlib.pyplot as plt\n",
    "# Import functionality for the color map\n",
    "import matplotlib.cm as cm\n",
    "\n",
    "# Import system specific parameters and function\n",
    "import sys \n",
    "\n",
    "## Other plotting libraries\n",
    "# import seaborn as sns\n",
    "\n",
    "# Import the library to mange the matrix and array \n",
    "import numpy as np\n",
    "\n",
    "# Importing image processing toolbox \n",
    "## Module to read, write,... \n",
    "from skimage import io\n",
    "## Module to convert the image on 8 bits\n",
    "from skimage import img_as_ubyte\n",
    "## Module to convert the image to float\n",
    "from skimage import img_as_float\n",
    "## Module for color conversion \n",
    "from skimage import color\n",
    "## Module image transform from skimage for resize \n",
    "from skimage import transform\n",
    "## Module misc from scipy for resize \n",
    "from scipy import misc\n",
    "## Module util from skimage \n",
    "from PIL import Image\n"
   ]
  },
  {
   "cell_type": "markdown",
   "metadata": {},
   "source": [
    "### ** Resizing an image size using different interpolation functions**"
   ]
  },
  {
   "cell_type": "markdown",
   "metadata": {},
   "source": [
    "**1. ** Resize the lena or vibot image using nearest, bilinear and bicubic function.\n",
    "\n",
    "You can define your function which accept the model and resize size from the user or just run a script."
   ]
  },
  {
   "cell_type": "code",
   "execution_count": 2,
   "metadata": {
    "collapsed": true
   },
   "outputs": [],
   "source": [
    "def ImResize (im, method='nearest', size= 0.5):\n",
    "    print 'The resize method is {}'.format(method)\n",
    "    im_resize = misc.imresize(im, size, interp = method)\n",
    "    return im_resize"
   ]
  },
  {
   "cell_type": "code",
   "execution_count": 2,
   "metadata": {
    "collapsed": false
   },
   "outputs": [],
   "source": [
    "#plt.figure\n",
    "#plt.imshow(im_resize, cmap=plt.cm.gray)\n",
    "#plt.show()  \n",
    "\n",
    "from scipy.misc import imresize\n",
    "  \n",
    "Path = './images/'\n",
    "image_name = 'lena-grey.bmp'\n",
    "lena_im = io.imread(Path.__add__(image_name))\n",
    "lena_im = imresize(lena,(20,20))\n",
    "plt.figure,plt.imshow(lena_im,cmap=plt.cm.gray)\n",
    "lena1=imresize(lena,(250,250),interp='nearest',mode=None)\n",
    "lena2=imresize(lena,(250,250),interp='bilinear',mode=None)\n",
    "lena3=imresize(lena,(250,250),interp='bicubic',mode=None)"
   ]
  },
  {
   "cell_type": "markdown",
   "metadata": {},
   "source": [
    "**2. ** Similar to the function of `my_blending.m` that you saw before define your function of blending.\n",
    "\n",
    "Blend the lena image and vibot image using simple, alpha and pyramid method.   \n",
    "\n",
    "Pyramid blending method: \n",
    "1. Create a mask the same size as your input images \n",
    "2. Create Laplacian pyramid of the input images \n",
    "    2.1. Create Gaussian pyramids of the input images\n",
    "    2.2. Create Laplacian pyramids using the Gaussian pyramids\n",
    "3. Create Gaussian pyramid for the region mask\n",
    "4. Blend the two laplacian pyramids using the pyramid of the mask as weigh \n",
    "    $$ BL = L_1 * (GM) + L_2 *(1 - GM)$$\n",
    "5. Colapse the pyramid to get the final image \n",
    "    $$rescale(rescale(rescale(BL_3)+BL_2)+BL_1)+BL_0$$\n",
    "\n",
    "Note : For pyramid blending approach, you can use:\n",
    "    * transform.rescale for upscaling your images\n",
    "    * transform.pyramid_gaussian for building your pyramids\n",
    "    * The output of transform.pyramid_gaussian is a type generator and you need to convert it to a list :\n",
    "    \n",
    "        b = [a for a in Gaussian_pyramid]\n"
   ]
  },
  {
   "cell_type": "code",
   "execution_count": null,
   "metadata": {
    "collapsed": false
   },
   "outputs": [],
   "source": [
    "def MyBending(img1,img2,method='simple',win_size=20,alpha=0.5)\n",
    "    img3=np.zeros(img1.shape[0],img1.shape[1],3)\n",
    "    if method == 'simple':\n",
    "        img3[:,0:np.ceil(img3.shape[1]/2),:]=img1[:,0:np.ceil(img1.shape[1]/2),:]\n",
    "        img3[:,np.ceil(img3.shape[1]/2):img3.shape[1]]=img2[:,np.ceil(img1.shape[1]/2):img2.shape[1]]\n",
    "        plt.figure\n",
    "        plt.imshow(img3, cmap=cm.Grays_r)\n",
    "        plt.title('Simple Blending')\n",
    "        plt.show()\n",
    "        return img3\n",
    "                                                                       \n",
    "                                                        \n"
   ]
  },
  {
   "cell_type": "markdown",
   "metadata": {},
   "source": [
    "Use the `orange.jpeg` and `apple.jpeg` imgages and blend them using simple, alpha and pyramid approach."
   ]
  },
  {
   "cell_type": "code",
   "execution_count": null,
   "metadata": {
    "collapsed": true
   },
   "outputs": [],
   "source": []
  },
  {
   "cell_type": "markdown",
   "metadata": {},
   "source": [
    "Show the your answers."
   ]
  },
  {
   "cell_type": "code",
   "execution_count": null,
   "metadata": {
    "collapsed": true
   },
   "outputs": [],
   "source": []
  }
 ],
 "metadata": {
  "anaconda-cloud": {},
  "kernelspec": {
   "display_name": "Python 2",
   "language": "python",
   "name": "python2"
  },
  "language_info": {
   "codemirror_mode": {
    "name": "ipython",
    "version": 2
   },
   "file_extension": ".py",
   "mimetype": "text/x-python",
   "name": "python",
   "nbconvert_exporter": "python",
   "pygments_lexer": "ipython2",
   "version": "2.7.11"
  }
 },
 "nbformat": 4,
 "nbformat_minor": 0
}
